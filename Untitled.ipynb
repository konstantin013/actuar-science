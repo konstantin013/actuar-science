{
 "cells": [
  {
   "cell_type": "code",
   "execution_count": 1,
   "metadata": {
    "collapsed": true
   },
   "outputs": [],
   "source": [
    "import math"
   ]
  },
  {
   "cell_type": "code",
   "execution_count": 2,
   "metadata": {
    "collapsed": true
   },
   "outputs": [],
   "source": [
    "w = 100\n",
    "i = 0.04\n",
    "v = 1 / (1 + i)\n",
    "d = 1 - v"
   ]
  },
  {
   "cell_type": "code",
   "execution_count": 3,
   "metadata": {
    "collapsed": false
   },
   "outputs": [],
   "source": [
    "def read_numbers_from_file(filename):\n",
    "    try:\n",
    "        f = open(filename, 'r')\n",
    "        a = f.read().split()\n",
    "        f.close()\n",
    "        for i in range(len(a)):\n",
    "            a[i] = float(a[i])\n",
    "        return a\n",
    "    except FileNotFoundError:\n",
    "        print(\"file \" + filename + \" doesn't exist\")"
   ]
  },
  {
   "cell_type": "code",
   "execution_count": 4,
   "metadata": {
    "collapsed": false
   },
   "outputs": [],
   "source": [
    "l_l = read_numbers_from_file(\"l\")\n",
    "A_l = read_numbers_from_file(\"A\")\n",
    "app_l = read_numbers_from_file(\"app\")\n",
    "Iapp_l = read_numbers_from_file(\"Iapp\")\n",
    "IA_l = read_numbers_from_file(\"IA\")"
   ]
  },
  {
   "cell_type": "code",
   "execution_count": 5,
   "metadata": {
    "collapsed": true
   },
   "outputs": [],
   "source": [
    "def l(x):\n",
    "    return l_l[x]"
   ]
  },
  {
   "cell_type": "code",
   "execution_count": 6,
   "metadata": {
    "collapsed": true
   },
   "outputs": [],
   "source": [
    "def A(x):\n",
    "    return A_l[x]"
   ]
  },
  {
   "cell_type": "code",
   "execution_count": 7,
   "metadata": {
    "collapsed": true
   },
   "outputs": [],
   "source": [
    "def app(x):\n",
    "    return app_l[x]"
   ]
  },
  {
   "cell_type": "code",
   "execution_count": 8,
   "metadata": {
    "collapsed": true
   },
   "outputs": [],
   "source": [
    "def Iapp(x):\n",
    "    return Iapp_l[x]"
   ]
  },
  {
   "cell_type": "code",
   "execution_count": 9,
   "metadata": {
    "collapsed": true
   },
   "outputs": [],
   "source": [
    "def IA(x):\n",
    "    return IA_l[x]"
   ]
  },
  {
   "cell_type": "markdown",
   "metadata": {
    "collapsed": true
   },
   "source": [
    "# table functions end"
   ]
  },
  {
   "cell_type": "code",
   "execution_count": 10,
   "metadata": {
    "collapsed": true
   },
   "outputs": [],
   "source": [
    "def p(t, x):\n",
    "    return l(x + t) / l(x)"
   ]
  },
  {
   "cell_type": "code",
   "execution_count": 11,
   "metadata": {
    "collapsed": true
   },
   "outputs": [],
   "source": [
    "def q(t, x):\n",
    "    return 1 - p(t, x)"
   ]
  },
  {
   "cell_type": "code",
   "execution_count": 12,
   "metadata": {
    "collapsed": true
   },
   "outputs": [],
   "source": [
    "def E(n, x):\n",
    "    return v ** n * p(n, x)"
   ]
  },
  {
   "cell_type": "code",
   "execution_count": 13,
   "metadata": {
    "collapsed": true
   },
   "outputs": [],
   "source": [
    "def A1(x, n):\n",
    "    return A(x) - A(x + n) * E(n, x)"
   ]
  },
  {
   "cell_type": "code",
   "execution_count": 14,
   "metadata": {
    "collapsed": true
   },
   "outputs": [],
   "source": [
    "def IA1(x, n):\n",
    "    return IA(x) - E(n, x) * (n * A(x + n) + IA(x + n))"
   ]
  },
  {
   "cell_type": "code",
   "execution_count": 15,
   "metadata": {
    "collapsed": true
   },
   "outputs": [],
   "source": [
    "def Aline(x):\n",
    "    return i / math.log(1 + i) * A(x)"
   ]
  },
  {
   "cell_type": "code",
   "execution_count": 16,
   "metadata": {
    "collapsed": true
   },
   "outputs": [],
   "source": [
    "def Aline1(x, n):\n",
    "    return i / math.log(1 + i) * A1(x, n)"
   ]
  },
  {
   "cell_type": "code",
   "execution_count": 17,
   "metadata": {
    "collapsed": true
   },
   "outputs": [],
   "source": [
    "def im(m):\n",
    "    return ((1 + i) ** (1 / m) - 1) * m"
   ]
  },
  {
   "cell_type": "code",
   "execution_count": 18,
   "metadata": {
    "collapsed": true
   },
   "outputs": [],
   "source": [
    "def Amx(m, x):\n",
    "    return A(x) * i / im(m)"
   ]
  },
  {
   "cell_type": "code",
   "execution_count": 19,
   "metadata": {
    "collapsed": true
   },
   "outputs": [],
   "source": [
    "def A1m(m, x, n):\n",
    "    return A1(x, n) * i / im(m)"
   ]
  },
  {
   "cell_type": "markdown",
   "metadata": {
    "collapsed": true
   },
   "source": [
    "# Annuity begins"
   ]
  },
  {
   "cell_type": "code",
   "execution_count": 20,
   "metadata": {
    "collapsed": true
   },
   "outputs": [],
   "source": [
    "def appxn(x, n):\n",
    "    return app(x) - E(n, x) * app(x + n)"
   ]
  },
  {
   "cell_type": "code",
   "execution_count": 21,
   "metadata": {
    "collapsed": true
   },
   "outputs": [],
   "source": [
    "def axn(x, n):\n",
    "    return a(x) - E(n * x) * a(x + n)"
   ]
  },
  {
   "cell_type": "code",
   "execution_count": 22,
   "metadata": {
    "collapsed": true
   },
   "outputs": [],
   "source": [
    "def appmxn(m, x, n):\n",
    "    return appxn(x, n) - 0.5 * (1 - 1 / m) * (1 - E(n, x))"
   ]
  },
  {
   "cell_type": "code",
   "execution_count": 23,
   "metadata": {
    "collapsed": true
   },
   "outputs": [],
   "source": [
    "def appm(x):\n",
    "    return app(x) - (m - 1) / (2 * m)"
   ]
  },
  {
   "cell_type": "code",
   "execution_count": 24,
   "metadata": {
    "collapsed": true
   },
   "outputs": [],
   "source": [
    "def amxn(m, x, n):\n",
    "    return appmxn(m, x, n) * v ** (1 / m)"
   ]
  },
  {
   "cell_type": "code",
   "execution_count": 25,
   "metadata": {
    "collapsed": true
   },
   "outputs": [],
   "source": [
    "def Iaxn(x, n):\n",
    "    return Ia(x) - E(n, x) * (n * a(x + n) + Ia(x + n))"
   ]
  },
  {
   "cell_type": "code",
   "execution_count": 26,
   "metadata": {
    "collapsed": true
   },
   "outputs": [],
   "source": [
    "def Iappxn(x, n):\n",
    "    return Iapp(x) - E(n, x) * (Iapp(x + n) + n * app(x + n))"
   ]
  },
  {
   "cell_type": "markdown",
   "metadata": {
    "collapsed": true
   },
   "source": [
    "# there formules end"
   ]
  },
  {
   "cell_type": "code",
   "execution_count": 27,
   "metadata": {
    "collapsed": true
   },
   "outputs": [],
   "source": [
    "x = 30\n",
    "n = 5"
   ]
  },
  {
   "cell_type": "code",
   "execution_count": 28,
   "metadata": {
    "collapsed": false
   },
   "outputs": [
    {
     "name": "stdout",
     "output_type": "stream",
     "text": [
      "0: 4.615385532644446\n",
      "1: 3.761550640984737\n",
      "2: 2.8763633666576816\n",
      "3: 1.9586876189389457\n",
      "4: 0.9971726091594242\n",
      "5: 0.0\n"
     ]
    }
   ],
   "source": [
    "for t in range(6):\n",
    "    print(str(t) + \": \" + str(appxn(x + t, n - t)))"
   ]
  },
  {
   "cell_type": "code",
   "execution_count": 29,
   "metadata": {
    "collapsed": false
   },
   "outputs": [
    {
     "name": "stdout",
     "output_type": "stream",
     "text": [
      "0: 0.0075120781257706215\n",
      "1: 0.006288870309371919\n",
      "2: 0.00473926672033656\n",
      "3: 0.003851440021211905\n",
      "4: 0.0016113277493136624\n",
      "5: 0.0\n"
     ]
    }
   ],
   "source": [
    "for t in range(6):\n",
    "    print(str(t) + \": \" + str(A1(x + t, n - t)))"
   ]
  },
  {
   "cell_type": "code",
   "execution_count": 30,
   "metadata": {
    "collapsed": false
   },
   "outputs": [
    {
     "name": "stdout",
     "output_type": "stream",
     "text": [
      "0: 0.8144972857945041\n",
      "1: 0.8484090595804136\n",
      "2: 0.8838532078857438\n",
      "3: 0.9208852581163761\n",
      "4: 0.9595712312238794\n",
      "5: 1.0\n"
     ]
    }
   ],
   "source": [
    "for t in range(6):\n",
    "    print(str(t) + \": \" + str(E(n - t, x + t)))"
   ]
  },
  {
   "cell_type": "code",
   "execution_count": 31,
   "metadata": {
    "collapsed": false
   },
   "outputs": [
    {
     "data": {
      "text/plain": [
       "0.17810199345346858"
      ]
     },
     "execution_count": 31,
     "metadata": {},
     "output_type": "execute_result"
    }
   ],
   "source": [
    "gp = (E(n, x) + A1(x, n)) / appxn(x, n)\n",
    "gp"
   ]
  },
  {
   "cell_type": "code",
   "execution_count": 32,
   "metadata": {
    "collapsed": false
   },
   "outputs": [
    {
     "name": "stdout",
     "output_type": "stream",
     "text": [
      "0V = 0.17810199345346858\n",
      "1V = 0.22721957284776417\n",
      "2V = 0.3089291446645769\n",
      "3V = 0.47212056133715363\n",
      "4V = 0.9639079033502843\n"
     ]
    }
   ],
   "source": [
    "for t in range(5):\n",
    "    print(str(t) + 'V = ' + str((A1(x + t, n - t) + E(n - t, x + t)) / appxn(x + t, n - t)))"
   ]
  },
  {
   "cell_type": "code",
   "execution_count": 33,
   "metadata": {
    "collapsed": false
   },
   "outputs": [
    {
     "data": {
      "text/plain": [
       "0.19988820841839217"
      ]
     },
     "execution_count": 33,
     "metadata": {},
     "output_type": "execute_result"
    }
   ],
   "source": [
    "pz = (0.008 + 0.8145) / (4.6148 - 0.5)\n",
    "pz"
   ]
  },
  {
   "cell_type": "code",
   "execution_count": 34,
   "metadata": {
    "collapsed": false
   },
   "outputs": [
    {
     "ename": "TypeError",
     "evalue": "app() takes 1 positional argument but 2 were given",
     "output_type": "error",
     "traceback": [
      "\u001b[0;31m---------------------------------------------------------------------------\u001b[0m",
      "\u001b[0;31mTypeError\u001b[0m                                 Traceback (most recent call last)",
      "\u001b[0;32m<ipython-input-34-91eb3c4a9724>\u001b[0m in \u001b[0;36m<module>\u001b[0;34m()\u001b[0m\n\u001b[0;32m----> 1\u001b[0;31m \u001b[0mpz\u001b[0m \u001b[0;34m=\u001b[0m \u001b[0;34m(\u001b[0m\u001b[0mE\u001b[0m\u001b[0;34m(\u001b[0m\u001b[0mn\u001b[0m\u001b[0;34m,\u001b[0m \u001b[0mx\u001b[0m\u001b[0;34m)\u001b[0m \u001b[0;34m+\u001b[0m \u001b[0mA1\u001b[0m\u001b[0;34m(\u001b[0m\u001b[0mx\u001b[0m\u001b[0;34m,\u001b[0m \u001b[0mn\u001b[0m\u001b[0;34m)\u001b[0m\u001b[0;34m)\u001b[0m \u001b[0;34m/\u001b[0m \u001b[0;34m(\u001b[0m\u001b[0mapp\u001b[0m\u001b[0;34m(\u001b[0m\u001b[0mx\u001b[0m\u001b[0;34m,\u001b[0m \u001b[0mn\u001b[0m\u001b[0;34m)\u001b[0m\u001b[0;34m)\u001b[0m\u001b[0;34m\u001b[0m\u001b[0m\n\u001b[0m",
      "\u001b[0;31mTypeError\u001b[0m: app() takes 1 positional argument but 2 were given"
     ]
    }
   ],
   "source": [
    "pz = (E(n, x) + A1(x, n)) / (app(x, n))"
   ]
  },
  {
   "cell_type": "code",
   "execution_count": null,
   "metadata": {
    "collapsed": false
   },
   "outputs": [],
   "source": [
    "for t in range (5):\n",
    "    print(str(t) + 'V = ' + str(A1(x + t, n - t) + E(n - t, x + t) - pz * appxn(x + t, n - t)))"
   ]
  },
  {
   "cell_type": "code",
   "execution_count": null,
   "metadata": {
    "collapsed": true
   },
   "outputs": [],
   "source": [
    "x = 30\n",
    "n = 5"
   ]
  },
  {
   "cell_type": "code",
   "execution_count": 42,
   "metadata": {
    "collapsed": false
   },
   "outputs": [
    {
     "name": "stdout",
     "output_type": "stream",
     "text": [
      "NP = 0.17810199345346858\n",
      "GP = 0.2121524583614614\n",
      "PZ = 0.20154483544338833\n"
     ]
    }
   ],
   "source": [
    "alpha = 0.51\n",
    "betta = 0.05\n",
    "NP = (A1(x, n) + E(n, x)) / appxn(x, n)\n",
    "print('NP = ' + str(NP))\n",
    "GP =  (A1(x, n) + E(n, x)) / (appxn(x, n) * (1 - betta) - alpha)\n",
    "print('GP = ' + str(GP))\n",
    "PZ =  (A1(x, n) + E(n, x) + alpha * GP) / appxn(x, n)\n",
    "print('PZ = ' + str(PZ))"
   ]
  },
  {
   "cell_type": "code",
   "execution_count": 39,
   "metadata": {
    "collapsed": false
   },
   "outputs": [
    {
     "name": "stdout",
     "output_type": "stream",
     "text": [
      "t = 1, 0.9984301412872841\n",
      "t = 2, 0.9967268958865597\n",
      "t = 3, 0.9949107848267512\n",
      "t = 4, 0.9929920686223207\n",
      "t = 5, 0.9909604867588061\n"
     ]
    }
   ],
   "source": [
    "for t in range(1, 6):\n",
    "    print(\"t = \" + str(t) + \", \" + str(p(t, x)))"
   ]
  },
  {
   "cell_type": "code",
   "execution_count": 43,
   "metadata": {
    "collapsed": false
   },
   "outputs": [
    {
     "name": "stdout",
     "output_type": "stream",
     "text": [
      "t = 1, 0.2121524583614614\n",
      "t = 2, 0.21181940897627857\n",
      "t = 3, 0.21145806127732203\n",
      "t = 4, 0.21107276885132623\n",
      "t = 5, 0.2106657084916583\n"
     ]
    }
   ],
   "source": [
    "for t in range(1, 6):\n",
    "    print(\"t = \" + str(t) + \", \" + str(p(t - 1, x) *GP))"
   ]
  },
  {
   "cell_type": "code",
   "execution_count": 44,
   "metadata": {
    "collapsed": false
   },
   "outputs": [
    {
     "name": "stdout",
     "output_type": "stream",
     "text": [
      "t = 1, 0.010607622918073071\n",
      "t = 2, 0.010590970448813929\n",
      "t = 3, 0.010572903063866101\n",
      "t = 4, 0.010553638442566312\n",
      "t = 5, 0.010533285424582916\n"
     ]
    }
   ],
   "source": [
    "for t in range(1, 6):\n",
    "    print(\"t = \" + str(t) + \", \" + str(p(t - 1, x) *GP * betta))"
   ]
  },
  {
   "cell_type": "code",
   "execution_count": 45,
   "metadata": {
    "collapsed": false
   },
   "outputs": [
    {
     "data": {
      "text/plain": [
       "0.10819775376434532"
      ]
     },
     "execution_count": 45,
     "metadata": {},
     "output_type": "execute_result"
    }
   ],
   "source": [
    "GP * alpha"
   ]
  },
  {
   "cell_type": "code",
   "execution_count": 46,
   "metadata": {
    "collapsed": false
   },
   "outputs": [
    {
     "name": "stdout",
     "output_type": "stream",
     "text": [
      "t = 1, 0.0015698587127158659\n",
      "t = 2, 0.0017032454007244078\n",
      "t = 3, 0.0018161110598085366\n",
      "t = 4, 0.001918716204430479\n",
      "t = 5, 0.002031581863514635\n"
     ]
    }
   ],
   "source": [
    "for t in range(1, 6):\n",
    "    print(\"t = \" + str(t) + \", \" + str(p(t - 1, x) * q(1, x+t-1)))"
   ]
  },
  {
   "cell_type": "code",
   "execution_count": null,
   "metadata": {
    "collapsed": true
   },
   "outputs": [],
   "source": []
  }
 ],
 "metadata": {
  "kernelspec": {
   "display_name": "Python 3",
   "language": "python",
   "name": "python3"
  },
  "language_info": {
   "codemirror_mode": {
    "name": "ipython",
    "version": 3
   },
   "file_extension": ".py",
   "mimetype": "text/x-python",
   "name": "python",
   "nbconvert_exporter": "python",
   "pygments_lexer": "ipython3",
   "version": "3.5.2"
  }
 },
 "nbformat": 4,
 "nbformat_minor": 1
}
